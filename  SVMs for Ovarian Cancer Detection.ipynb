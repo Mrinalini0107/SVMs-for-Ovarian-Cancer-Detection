{
 "cells": [
  {
   "cell_type": "markdown",
   "id": "3d84b1b5",
   "metadata": {
    "id": "3d84b1b5"
   },
   "source": [
    "## SVMs for Ovarian Cancer Detection"
   ]
  },
  {
   "cell_type": "markdown",
   "id": "1845b153",
   "metadata": {
    "id": "1845b153"
   },
   "source": [
    "### Problem Statement :"
   ]
  },
  {
   "cell_type": "markdown",
   "id": "f8f4dc18",
   "metadata": {
    "id": "f8f4dc18"
   },
   "source": [
    "__SVMs for Ovarian Cancer Detection :__ use different __Support Vector Machines (SVMs)__ for __Ovarian Cancer Detection.__\n",
    "\n",
    "### Task - 1 :\n",
    "(required for all):\n",
    "  * Use a linear and then a Gaussian kernel SVM (with default settings) with 70% of data reserved for training and 30% for testing.\n",
    "  * Report the confusion matrices for training and testing datasets.\n",
    "  * Which one has a better generalization capability?\n",
    "\n",
    "### Task - 2 :\n",
    "(required for graduate section):\n",
    "   * Change box constraint for the above SVMs (using the same data partition).\n",
    "   * Show the results for at least 3 different settings for this parameter for each kernel in Task-1 using confusion matrices.\n",
    "   * Explain your observations.\n",
    "\n",
    "### Task - 3 :\n",
    "   * using a voting ensemble of at least 5 diverse SVMs (e.g., by varying kernels, their parameters, and box constraints) and\n",
    "   * using the same data partition, try to get better testing results.\n",
    "   * Show the improvements using the confusion matrix.\n",
    "\n"
   ]
  },
  {
   "cell_type": "markdown",
   "id": "a2b158a2",
   "metadata": {
    "id": "a2b158a2"
   },
   "source": [
    "* __For Task-1:__ correct training and testing confusion matrices (2 for linear and 2 for Gaussian kernel SVMs), generalization assessment.\n",
    "\n",
    "* __For Task-2:__ correct training and testing confusion matrices, with 3 box constraint values each (2x3 for linear and 2x3 for Gaussian kernel SVMs), assessment and observations.\n",
    "\n",
    "* Correct training and testing confusion matrices of individual classifiers\n",
    "* correct training and testing confusion matrices of the voting ensemble\n",
    "* the ensemble testing is better than each of the individual classifiers testing per confusion matrices"
   ]
  },
  {
   "cell_type": "markdown",
   "id": "b278185d",
   "metadata": {
    "id": "b278185d"
   },
   "source": [
    "### SVMs for Ovarian Cancer Detection using Python."
   ]
  },
  {
   "cell_type": "markdown",
   "id": "9d36af2c",
   "metadata": {
    "id": "9d36af2c"
   },
   "source": [
    "### Step 1: Import Necessary Libraries"
   ]
  },
  {
   "cell_type": "code",
   "execution_count": 26,
   "id": "9a78a5f5",
   "metadata": {
    "executionInfo": {
     "elapsed": 649,
     "status": "ok",
     "timestamp": 1733647729805,
     "user": {
      "displayName": "MRUNALINI",
      "userId": "07070477345269462255"
     },
     "user_tz": -330
    },
    "id": "9a78a5f5"
   },
   "outputs": [],
   "source": [
    "import numpy as np\n",
    "import pandas as pd\n",
    "from sklearn import svm\n",
    "from sklearn.model_selection import train_test_split\n",
    "from sklearn.svm import SVC\n",
    "from sklearn.ensemble import VotingClassifier\n",
    "from sklearn.metrics import confusion_matrix, classification_report\n",
    "import seaborn as sns\n",
    "import matplotlib.pyplot as plt"
   ]
  },
  {
   "cell_type": "markdown",
   "id": "bd68021c",
   "metadata": {
    "id": "bd68021c"
   },
   "source": [
    "### Step 2: Load and Preprocess the Dataset\n",
    "__Dataset :__  Load `Ovarian Cancer Detection.csv` dataset"
   ]
  },
  {
   "cell_type": "code",
   "execution_count": 27,
   "id": "1f00e3f0",
   "metadata": {
    "colab": {
     "base_uri": "https://localhost:8080/",
     "height": 256
    },
    "executionInfo": {
     "elapsed": 700,
     "status": "ok",
     "timestamp": 1733647733858,
     "user": {
      "displayName": "MRUNALINI",
      "userId": "07070477345269462255"
     },
     "user_tz": -330
    },
    "id": "1f00e3f0",
    "outputId": "a5ee7ce2-944d-4ce9-baa7-4943c4a1d035"
   },
   "outputs": [
    {
     "data": {
      "text/html": [
       "<div>\n",
       "<style scoped>\n",
       "    .dataframe tbody tr th:only-of-type {\n",
       "        vertical-align: middle;\n",
       "    }\n",
       "\n",
       "    .dataframe tbody tr th {\n",
       "        vertical-align: top;\n",
       "    }\n",
       "\n",
       "    .dataframe thead th {\n",
       "        text-align: right;\n",
       "    }\n",
       "</style>\n",
       "<table border=\"1\" class=\"dataframe\">\n",
       "  <thead>\n",
       "    <tr style=\"text-align: right;\">\n",
       "      <th></th>\n",
       "      <th>Feature_1</th>\n",
       "      <th>Feature_2</th>\n",
       "      <th>Feature_3</th>\n",
       "      <th>Feature_4</th>\n",
       "      <th>Feature_5</th>\n",
       "      <th>Feature_6</th>\n",
       "      <th>Feature_7</th>\n",
       "      <th>Feature_8</th>\n",
       "      <th>Feature_9</th>\n",
       "      <th>Feature_10</th>\n",
       "      <th>...</th>\n",
       "      <th>Feature_92</th>\n",
       "      <th>Feature_93</th>\n",
       "      <th>Feature_94</th>\n",
       "      <th>Feature_95</th>\n",
       "      <th>Feature_96</th>\n",
       "      <th>Feature_97</th>\n",
       "      <th>Feature_98</th>\n",
       "      <th>Feature_99</th>\n",
       "      <th>Feature_100</th>\n",
       "      <th>Label</th>\n",
       "    </tr>\n",
       "  </thead>\n",
       "  <tbody>\n",
       "    <tr>\n",
       "      <th>0</th>\n",
       "      <td>0.462901</td>\n",
       "      <td>0.406736</td>\n",
       "      <td>0.306215</td>\n",
       "      <td>0.488105</td>\n",
       "      <td>0.175169</td>\n",
       "      <td>0.356551</td>\n",
       "      <td>0.439552</td>\n",
       "      <td>0.246779</td>\n",
       "      <td>1.373469</td>\n",
       "      <td>1.571959</td>\n",
       "      <td>...</td>\n",
       "      <td>0.403089</td>\n",
       "      <td>0.189221</td>\n",
       "      <td>0.364127</td>\n",
       "      <td>0.261905</td>\n",
       "      <td>0.102007</td>\n",
       "      <td>1.669069</td>\n",
       "      <td>0.080098</td>\n",
       "      <td>0.144621</td>\n",
       "      <td>0.106405</td>\n",
       "      <td>1</td>\n",
       "    </tr>\n",
       "    <tr>\n",
       "      <th>1</th>\n",
       "      <td>0.370565</td>\n",
       "      <td>0.306431</td>\n",
       "      <td>0.239715</td>\n",
       "      <td>0.476358</td>\n",
       "      <td>0.175900</td>\n",
       "      <td>0.353762</td>\n",
       "      <td>0.476071</td>\n",
       "      <td>0.258894</td>\n",
       "      <td>1.338965</td>\n",
       "      <td>1.677094</td>\n",
       "      <td>...</td>\n",
       "      <td>0.494679</td>\n",
       "      <td>0.181136</td>\n",
       "      <td>0.446832</td>\n",
       "      <td>0.164218</td>\n",
       "      <td>0.163589</td>\n",
       "      <td>2.232187</td>\n",
       "      <td>0.238168</td>\n",
       "      <td>0.186373</td>\n",
       "      <td>0.126373</td>\n",
       "      <td>1</td>\n",
       "    </tr>\n",
       "    <tr>\n",
       "      <th>2</th>\n",
       "      <td>0.461550</td>\n",
       "      <td>0.278980</td>\n",
       "      <td>0.206608</td>\n",
       "      <td>0.744342</td>\n",
       "      <td>0.152133</td>\n",
       "      <td>0.247645</td>\n",
       "      <td>0.304292</td>\n",
       "      <td>0.170356</td>\n",
       "      <td>1.047475</td>\n",
       "      <td>1.193578</td>\n",
       "      <td>...</td>\n",
       "      <td>1.251828</td>\n",
       "      <td>0.377694</td>\n",
       "      <td>0.486562</td>\n",
       "      <td>0.088848</td>\n",
       "      <td>0.108145</td>\n",
       "      <td>2.142075</td>\n",
       "      <td>0.233619</td>\n",
       "      <td>0.175468</td>\n",
       "      <td>0.099903</td>\n",
       "      <td>1</td>\n",
       "    </tr>\n",
       "    <tr>\n",
       "      <th>3</th>\n",
       "      <td>0.375149</td>\n",
       "      <td>0.287317</td>\n",
       "      <td>0.241130</td>\n",
       "      <td>0.426810</td>\n",
       "      <td>0.205859</td>\n",
       "      <td>0.208770</td>\n",
       "      <td>0.283752</td>\n",
       "      <td>0.152572</td>\n",
       "      <td>1.213785</td>\n",
       "      <td>1.510149</td>\n",
       "      <td>...</td>\n",
       "      <td>0.673698</td>\n",
       "      <td>0.214058</td>\n",
       "      <td>0.701985</td>\n",
       "      <td>0.230137</td>\n",
       "      <td>0.129792</td>\n",
       "      <td>1.951741</td>\n",
       "      <td>0.168771</td>\n",
       "      <td>0.136800</td>\n",
       "      <td>0.116469</td>\n",
       "      <td>1</td>\n",
       "    </tr>\n",
       "    <tr>\n",
       "      <th>4</th>\n",
       "      <td>0.113849</td>\n",
       "      <td>0.108411</td>\n",
       "      <td>0.086275</td>\n",
       "      <td>0.219954</td>\n",
       "      <td>0.050794</td>\n",
       "      <td>0.116163</td>\n",
       "      <td>0.188402</td>\n",
       "      <td>0.069726</td>\n",
       "      <td>0.705930</td>\n",
       "      <td>0.815952</td>\n",
       "      <td>...</td>\n",
       "      <td>1.729508</td>\n",
       "      <td>0.440756</td>\n",
       "      <td>0.310229</td>\n",
       "      <td>0.139552</td>\n",
       "      <td>0.108191</td>\n",
       "      <td>3.917728</td>\n",
       "      <td>0.246519</td>\n",
       "      <td>0.079653</td>\n",
       "      <td>0.012750</td>\n",
       "      <td>1</td>\n",
       "    </tr>\n",
       "  </tbody>\n",
       "</table>\n",
       "<p>5 rows × 101 columns</p>\n",
       "</div>"
      ],
      "text/plain": [
       "   Feature_1  Feature_2  Feature_3  Feature_4  Feature_5  Feature_6  \\\n",
       "0   0.462901   0.406736   0.306215   0.488105   0.175169   0.356551   \n",
       "1   0.370565   0.306431   0.239715   0.476358   0.175900   0.353762   \n",
       "2   0.461550   0.278980   0.206608   0.744342   0.152133   0.247645   \n",
       "3   0.375149   0.287317   0.241130   0.426810   0.205859   0.208770   \n",
       "4   0.113849   0.108411   0.086275   0.219954   0.050794   0.116163   \n",
       "\n",
       "   Feature_7  Feature_8  Feature_9  Feature_10  ...  Feature_92  Feature_93  \\\n",
       "0   0.439552   0.246779   1.373469    1.571959  ...    0.403089    0.189221   \n",
       "1   0.476071   0.258894   1.338965    1.677094  ...    0.494679    0.181136   \n",
       "2   0.304292   0.170356   1.047475    1.193578  ...    1.251828    0.377694   \n",
       "3   0.283752   0.152572   1.213785    1.510149  ...    0.673698    0.214058   \n",
       "4   0.188402   0.069726   0.705930    0.815952  ...    1.729508    0.440756   \n",
       "\n",
       "   Feature_94  Feature_95  Feature_96  Feature_97  Feature_98  Feature_99  \\\n",
       "0    0.364127    0.261905    0.102007    1.669069    0.080098    0.144621   \n",
       "1    0.446832    0.164218    0.163589    2.232187    0.238168    0.186373   \n",
       "2    0.486562    0.088848    0.108145    2.142075    0.233619    0.175468   \n",
       "3    0.701985    0.230137    0.129792    1.951741    0.168771    0.136800   \n",
       "4    0.310229    0.139552    0.108191    3.917728    0.246519    0.079653   \n",
       "\n",
       "   Feature_100  Label  \n",
       "0     0.106405      1  \n",
       "1     0.126373      1  \n",
       "2     0.099903      1  \n",
       "3     0.116469      1  \n",
       "4     0.012750      1  \n",
       "\n",
       "[5 rows x 101 columns]"
      ]
     },
     "execution_count": 27,
     "metadata": {},
     "output_type": "execute_result"
    }
   ],
   "source": [
    "# Load dataset\n",
    "OCD = pd.read_csv('OCD.csv')\n",
    "OCD.head()"
   ]
  },
  {
   "cell_type": "markdown",
   "id": "5bb1b445",
   "metadata": {
    "id": "5bb1b445"
   },
   "source": [
    "__* Explore the dataset : check for missing values, data types__"
   ]
  },
  {
   "cell_type": "code",
   "execution_count": 28,
   "id": "36cd6c41",
   "metadata": {
    "colab": {
     "base_uri": "https://localhost:8080/"
    },
    "executionInfo": {
     "elapsed": 347,
     "status": "ok",
     "timestamp": 1733647736948,
     "user": {
      "displayName": "MRUNALINI",
      "userId": "07070477345269462255"
     },
     "user_tz": -330
    },
    "id": "36cd6c41",
    "outputId": "262c2227-6193-4042-b6b6-f9df9ceabaa3"
   },
   "outputs": [
    {
     "name": "stdout",
     "output_type": "stream",
     "text": [
      "<class 'pandas.core.frame.DataFrame'>\n",
      "RangeIndex: 216 entries, 0 to 215\n",
      "Columns: 101 entries, Feature_1 to Label\n",
      "dtypes: float64(100), int64(1)\n",
      "memory usage: 170.6 KB\n",
      "None\n"
     ]
    }
   ],
   "source": [
    "print(OCD.info())"
   ]
  },
  {
   "cell_type": "markdown",
   "id": "1a4cbfd0",
   "metadata": {
    "id": "1a4cbfd0"
   },
   "source": [
    "It looks like the `BareNuc` column includes some values that are not numerical. We can drop those rows:"
   ]
  },
  {
   "cell_type": "code",
   "execution_count": 29,
   "id": "79ccd6c8",
   "metadata": {
    "colab": {
     "base_uri": "https://localhost:8080/",
     "height": 458
    },
    "executionInfo": {
     "elapsed": 395,
     "status": "ok",
     "timestamp": 1733647757383,
     "user": {
      "displayName": "MRUNALINI",
      "userId": "07070477345269462255"
     },
     "user_tz": -330
    },
    "id": "79ccd6c8",
    "outputId": "d59625c6-1b3f-4f1f-a20f-e6bb4b13473d"
   },
   "outputs": [
    {
     "data": {
      "text/plain": [
       "Feature_1      float64\n",
       "Feature_2      float64\n",
       "Feature_3      float64\n",
       "Feature_4      float64\n",
       "Feature_5      float64\n",
       "                ...   \n",
       "Feature_97     float64\n",
       "Feature_98     float64\n",
       "Feature_99     float64\n",
       "Feature_100    float64\n",
       "Label            int64\n",
       "Length: 101, dtype: object"
      ]
     },
     "execution_count": 29,
     "metadata": {},
     "output_type": "execute_result"
    }
   ],
   "source": [
    "OCD.dtypes"
   ]
  },
  {
   "cell_type": "code",
   "execution_count": 6,
   "id": "b91db198",
   "metadata": {
    "executionInfo": {
     "elapsed": 345,
     "status": "ok",
     "timestamp": 1733647583302,
     "user": {
      "displayName": "MRUNALINI",
      "userId": "07070477345269462255"
     },
     "user_tz": -330
    },
    "id": "b91db198"
   },
   "outputs": [],
   "source": [
    "#print(OCD.describe())"
   ]
  },
  {
   "cell_type": "markdown",
   "id": "GHkewG9Idfnj",
   "metadata": {
    "id": "GHkewG9Idfnj"
   },
   "source": [
    "#### Assume last column is the target and others are features"
   ]
  },
  {
   "cell_type": "code",
   "execution_count": 30,
   "id": "FZ0dXwZ3aVJr",
   "metadata": {
    "executionInfo": {
     "elapsed": 370,
     "status": "ok",
     "timestamp": 1733647770461,
     "user": {
      "displayName": "MRUNALINI",
      "userId": "07070477345269462255"
     },
     "user_tz": -330
    },
    "id": "FZ0dXwZ3aVJr"
   },
   "outputs": [],
   "source": [
    "# Assume last column is the target and others are features\n",
    "X = OCD.iloc[:, :-1].values\n",
    "#y = OCD.iloc[:, -1].values"
   ]
  },
  {
   "cell_type": "markdown",
   "id": "57db144d",
   "metadata": {
    "id": "57db144d"
   },
   "source": [
    "* The model to predict the value of `Label` (that is, benign (=0) or malignant (=1)).\n",
    "* As this field can have one of only two possible values, we need to change its measurement level to reflect this."
   ]
  },
  {
   "cell_type": "code",
   "execution_count": 31,
   "id": "ca81ffa0",
   "metadata": {
    "colab": {
     "base_uri": "https://localhost:8080/"
    },
    "executionInfo": {
     "elapsed": 361,
     "status": "ok",
     "timestamp": 1733647852282,
     "user": {
      "displayName": "MRUNALINI",
      "userId": "07070477345269462255"
     },
     "user_tz": -330
    },
    "id": "ca81ffa0",
    "outputId": "d85ec617-7f60-4e2c-968a-8ab3feba0de8"
   },
   "outputs": [
    {
     "data": {
      "text/plain": [
       "array([1, 1, 1, 1, 1, 1, 1, 1, 1, 1, 1, 1, 1, 1, 1, 1, 1, 1, 1, 1, 1, 1,\n",
       "       1, 1, 1, 1, 1, 1, 1, 1, 1, 1, 1, 1, 1, 1, 1, 1, 1, 1, 1, 1, 1, 1,\n",
       "       1, 1, 1, 1, 1, 1, 1, 1, 1, 1, 1, 1, 1, 1, 1, 1, 1, 1, 1, 1, 1, 1,\n",
       "       1, 1, 1, 1, 1, 1, 1, 1, 1, 1, 1, 1, 1, 1, 1, 1, 1, 1, 1, 1, 1, 1,\n",
       "       1, 1, 1, 1, 1, 1, 1, 1, 1, 1, 1, 1, 1, 1, 1, 1, 1, 1, 1, 1, 1, 1,\n",
       "       1, 1, 1, 1, 1, 1, 1, 1, 1, 1, 1, 0, 0, 0, 0, 0, 0, 0, 0, 0, 0, 0,\n",
       "       0, 0, 0, 0, 0, 0, 0, 0, 0, 0, 0, 0, 0, 0, 0, 0, 0, 0, 0, 0, 0, 0,\n",
       "       0, 0, 0, 0, 0, 0, 0, 0, 0, 0, 0, 0, 0, 0, 0, 0, 0, 0, 0, 0, 0, 0,\n",
       "       0, 0, 0, 0, 0, 0, 0, 0, 0, 0, 0, 0, 0, 0, 0, 0, 0, 0, 0, 0, 0, 0,\n",
       "       0, 0, 0, 0, 0, 0, 0, 0, 0, 0, 0, 0, 0, 0, 0, 0, 0, 0])"
      ]
     },
     "execution_count": 31,
     "metadata": {},
     "output_type": "execute_result"
    }
   ],
   "source": [
    "# Assume last column is the target\n",
    "OCD[\"Label\"] = OCD[\"Label\"].astype(\"int\")\n",
    "y = np.asarray(OCD[\"Label\"])\n",
    "y"
   ]
  },
  {
   "cell_type": "markdown",
   "id": "86d70ecf",
   "metadata": {},
   "source": [
    "### Task - 1 :\n",
    "  * Use a linear and then a Gaussian kernel SVM (with default settings) with 70% of data reserved for training and 30% for testing.\n",
    "  * Report the confusion matrices for training and testing datasets.\n",
    "  * Which one has a better generalization capability?\n"
   ]
  },
  {
   "cell_type": "markdown",
   "id": "5ee97d54",
   "metadata": {
    "id": "5ee97d54"
   },
   "source": [
    "__* Train and Test dataset: Split data into training (70%) and testing (30%)__"
   ]
  },
  {
   "cell_type": "code",
   "execution_count": 32,
   "id": "4631b50c",
   "metadata": {
    "colab": {
     "base_uri": "https://localhost:8080/"
    },
    "executionInfo": {
     "elapsed": 353,
     "status": "ok",
     "timestamp": 1733647888301,
     "user": {
      "displayName": "MRUNALINI",
      "userId": "07070477345269462255"
     },
     "user_tz": -330
    },
    "id": "4631b50c",
    "outputId": "0a27f6e8-151a-46bb-e8ec-d4ba0b199deb"
   },
   "outputs": [
    {
     "name": "stdout",
     "output_type": "stream",
     "text": [
      "Train set : (151, 100) (151,)\n",
      "Test set : (65, 100) (65,)\n"
     ]
    }
   ],
   "source": [
    "X_train, X_test, y_train, y_test = train_test_split(X, y, test_size = 0.3, random_state=42, stratify=y)\n",
    "\n",
    "print(\"Train set :\", X_train.shape, y_train.shape)\n",
    "\n",
    "print(\"Test set :\", X_test.shape, y_test.shape)"
   ]
  },
  {
   "cell_type": "markdown",
   "id": "d9eecbf4",
   "metadata": {
    "id": "d9eecbf4"
   },
   "source": [
    "### Step 3:  Linear and Gaussian Kernel SVMs\n",
    "* Train the models,\n",
    "* Predict results, and\n",
    "* Generate Confusion Matrices."
   ]
  },
  {
   "cell_type": "markdown",
   "id": "0822ba10",
   "metadata": {
    "id": "0822ba10"
   },
   "source": [
    "__Modeling (SVM with Scikit-learn)__\n",
    "* The SVM algorithm offers a choice of kernel functions for performing its processing.\n",
    "* Basically, mapping data into a higher dimensional space is called `kernelling`.\n",
    "* The mathematical function used for the transformation is known as the `kernel function`,\n",
    "* and can be of different types, such as:\n",
    "    1. Linear\n",
    "    2. Polynomial\n",
    "    3. Radial basis function (RBF)\n",
    "    4. Sigmoid\n",
    "\n",
    "* We usually choose different functions in turn and compare the results.\n",
    "* Let's we use the default,Linear and RBF (Radial Basis Function) for this lab.\n",
    "\n",
    "  * __Gaussian kernel__ and __the Radial Basis Function (RBF) kernel__ are the same in the context of __Support Vector Machines (SVM)__.\n",
    "  * Both refer to a kernel function defined as:  $K(x,x')= exp(-γ||x - x'||^2)$\n",
    "\n",
    "__* Linear Kernel:__ Suitable for `linearly` separable data; faster to compute but less flexible.\n",
    "\n",
    "__* Gaussian(RBF Kernel):__ Suitable for `non-linear` problems; provides greater flexibility at the cost of more computational resources."
   ]
  },
  {
   "cell_type": "markdown",
   "id": "c755b35d",
   "metadata": {
    "id": "c755b35d"
   },
   "source": [
    "__* Linear kernel SVM__"
   ]
  },
  {
   "cell_type": "code",
   "execution_count": 33,
   "id": "59c87d9e",
   "metadata": {
    "colab": {
     "base_uri": "https://localhost:8080/",
     "height": 80
    },
    "executionInfo": {
     "elapsed": 390,
     "status": "ok",
     "timestamp": 1733648041804,
     "user": {
      "displayName": "MRUNALINI",
      "userId": "07070477345269462255"
     },
     "user_tz": -330
    },
    "id": "59c87d9e",
    "outputId": "4d6f5d07-2bab-4d90-c600-483829b4ac18"
   },
   "outputs": [
    {
     "data": {
      "text/html": [
       "<style>#sk-container-id-4 {color: black;}#sk-container-id-4 pre{padding: 0;}#sk-container-id-4 div.sk-toggleable {background-color: white;}#sk-container-id-4 label.sk-toggleable__label {cursor: pointer;display: block;width: 100%;margin-bottom: 0;padding: 0.3em;box-sizing: border-box;text-align: center;}#sk-container-id-4 label.sk-toggleable__label-arrow:before {content: \"▸\";float: left;margin-right: 0.25em;color: #696969;}#sk-container-id-4 label.sk-toggleable__label-arrow:hover:before {color: black;}#sk-container-id-4 div.sk-estimator:hover label.sk-toggleable__label-arrow:before {color: black;}#sk-container-id-4 div.sk-toggleable__content {max-height: 0;max-width: 0;overflow: hidden;text-align: left;background-color: #f0f8ff;}#sk-container-id-4 div.sk-toggleable__content pre {margin: 0.2em;color: black;border-radius: 0.25em;background-color: #f0f8ff;}#sk-container-id-4 input.sk-toggleable__control:checked~div.sk-toggleable__content {max-height: 200px;max-width: 100%;overflow: auto;}#sk-container-id-4 input.sk-toggleable__control:checked~label.sk-toggleable__label-arrow:before {content: \"▾\";}#sk-container-id-4 div.sk-estimator input.sk-toggleable__control:checked~label.sk-toggleable__label {background-color: #d4ebff;}#sk-container-id-4 div.sk-label input.sk-toggleable__control:checked~label.sk-toggleable__label {background-color: #d4ebff;}#sk-container-id-4 input.sk-hidden--visually {border: 0;clip: rect(1px 1px 1px 1px);clip: rect(1px, 1px, 1px, 1px);height: 1px;margin: -1px;overflow: hidden;padding: 0;position: absolute;width: 1px;}#sk-container-id-4 div.sk-estimator {font-family: monospace;background-color: #f0f8ff;border: 1px dotted black;border-radius: 0.25em;box-sizing: border-box;margin-bottom: 0.5em;}#sk-container-id-4 div.sk-estimator:hover {background-color: #d4ebff;}#sk-container-id-4 div.sk-parallel-item::after {content: \"\";width: 100%;border-bottom: 1px solid gray;flex-grow: 1;}#sk-container-id-4 div.sk-label:hover label.sk-toggleable__label {background-color: #d4ebff;}#sk-container-id-4 div.sk-serial::before {content: \"\";position: absolute;border-left: 1px solid gray;box-sizing: border-box;top: 0;bottom: 0;left: 50%;z-index: 0;}#sk-container-id-4 div.sk-serial {display: flex;flex-direction: column;align-items: center;background-color: white;padding-right: 0.2em;padding-left: 0.2em;position: relative;}#sk-container-id-4 div.sk-item {position: relative;z-index: 1;}#sk-container-id-4 div.sk-parallel {display: flex;align-items: stretch;justify-content: center;background-color: white;position: relative;}#sk-container-id-4 div.sk-item::before, #sk-container-id-4 div.sk-parallel-item::before {content: \"\";position: absolute;border-left: 1px solid gray;box-sizing: border-box;top: 0;bottom: 0;left: 50%;z-index: -1;}#sk-container-id-4 div.sk-parallel-item {display: flex;flex-direction: column;z-index: 1;position: relative;background-color: white;}#sk-container-id-4 div.sk-parallel-item:first-child::after {align-self: flex-end;width: 50%;}#sk-container-id-4 div.sk-parallel-item:last-child::after {align-self: flex-start;width: 50%;}#sk-container-id-4 div.sk-parallel-item:only-child::after {width: 0;}#sk-container-id-4 div.sk-dashed-wrapped {border: 1px dashed gray;margin: 0 0.4em 0.5em 0.4em;box-sizing: border-box;padding-bottom: 0.4em;background-color: white;}#sk-container-id-4 div.sk-label label {font-family: monospace;font-weight: bold;display: inline-block;line-height: 1.2em;}#sk-container-id-4 div.sk-label-container {text-align: center;}#sk-container-id-4 div.sk-container {/* jupyter's `normalize.less` sets `[hidden] { display: none; }` but bootstrap.min.css set `[hidden] { display: none !important; }` so we also need the `!important` here to be able to override the default hidden behavior on the sphinx rendered scikit-learn.org. See: https://github.com/scikit-learn/scikit-learn/issues/21755 */display: inline-block !important;position: relative;}#sk-container-id-4 div.sk-text-repr-fallback {display: none;}</style><div id=\"sk-container-id-4\" class=\"sk-top-container\"><div class=\"sk-text-repr-fallback\"><pre>SVC(kernel=&#x27;linear&#x27;)</pre><b>In a Jupyter environment, please rerun this cell to show the HTML representation or trust the notebook. <br />On GitHub, the HTML representation is unable to render, please try loading this page with nbviewer.org.</b></div><div class=\"sk-container\" hidden><div class=\"sk-item\"><div class=\"sk-estimator sk-toggleable\"><input class=\"sk-toggleable__control sk-hidden--visually\" id=\"sk-estimator-id-9\" type=\"checkbox\" checked><label for=\"sk-estimator-id-9\" class=\"sk-toggleable__label sk-toggleable__label-arrow\">SVC</label><div class=\"sk-toggleable__content\"><pre>SVC(kernel=&#x27;linear&#x27;)</pre></div></div></div></div></div>"
      ],
      "text/plain": [
       "SVC(kernel='linear')"
      ]
     },
     "execution_count": 33,
     "metadata": {},
     "output_type": "execute_result"
    }
   ],
   "source": [
    "from sklearn import svm\n",
    "\n",
    "linear_svm = svm.SVC(kernel=\"linear\")\n",
    "\n",
    "linear_svm.fit(X_train, y_train)"
   ]
  },
  {
   "cell_type": "markdown",
   "id": "4179c63a",
   "metadata": {
    "id": "4179c63a"
   },
   "source": [
    "__*  Linear:__ After being fitted, the model to predict new values:"
   ]
  },
  {
   "cell_type": "code",
   "execution_count": 34,
   "id": "eabd90b9",
   "metadata": {
    "executionInfo": {
     "elapsed": 382,
     "status": "ok",
     "timestamp": 1733648057337,
     "user": {
      "displayName": "MRUNALINI",
      "userId": "07070477345269462255"
     },
     "user_tz": -330
    },
    "id": "eabd90b9"
   },
   "outputs": [],
   "source": [
    "y_train_pred_linear = linear_svm.predict(X_train)\n",
    "\n",
    "y_test_pred_linear = linear_svm.predict(X_test)"
   ]
  },
  {
   "cell_type": "markdown",
   "id": "e48b6260",
   "metadata": {
    "id": "e48b6260"
   },
   "source": [
    "__* Gaussian (RBF) kernel SVM__"
   ]
  },
  {
   "cell_type": "code",
   "execution_count": 35,
   "id": "6b6546fa",
   "metadata": {
    "colab": {
     "base_uri": "https://localhost:8080/",
     "height": 80
    },
    "executionInfo": {
     "elapsed": 361,
     "status": "ok",
     "timestamp": 1733648068379,
     "user": {
      "displayName": "MRUNALINI",
      "userId": "07070477345269462255"
     },
     "user_tz": -330
    },
    "id": "6b6546fa",
    "outputId": "9c0f3d56-a2ee-4003-e32a-eb319e114804"
   },
   "outputs": [
    {
     "data": {
      "text/html": [
       "<style>#sk-container-id-5 {color: black;}#sk-container-id-5 pre{padding: 0;}#sk-container-id-5 div.sk-toggleable {background-color: white;}#sk-container-id-5 label.sk-toggleable__label {cursor: pointer;display: block;width: 100%;margin-bottom: 0;padding: 0.3em;box-sizing: border-box;text-align: center;}#sk-container-id-5 label.sk-toggleable__label-arrow:before {content: \"▸\";float: left;margin-right: 0.25em;color: #696969;}#sk-container-id-5 label.sk-toggleable__label-arrow:hover:before {color: black;}#sk-container-id-5 div.sk-estimator:hover label.sk-toggleable__label-arrow:before {color: black;}#sk-container-id-5 div.sk-toggleable__content {max-height: 0;max-width: 0;overflow: hidden;text-align: left;background-color: #f0f8ff;}#sk-container-id-5 div.sk-toggleable__content pre {margin: 0.2em;color: black;border-radius: 0.25em;background-color: #f0f8ff;}#sk-container-id-5 input.sk-toggleable__control:checked~div.sk-toggleable__content {max-height: 200px;max-width: 100%;overflow: auto;}#sk-container-id-5 input.sk-toggleable__control:checked~label.sk-toggleable__label-arrow:before {content: \"▾\";}#sk-container-id-5 div.sk-estimator input.sk-toggleable__control:checked~label.sk-toggleable__label {background-color: #d4ebff;}#sk-container-id-5 div.sk-label input.sk-toggleable__control:checked~label.sk-toggleable__label {background-color: #d4ebff;}#sk-container-id-5 input.sk-hidden--visually {border: 0;clip: rect(1px 1px 1px 1px);clip: rect(1px, 1px, 1px, 1px);height: 1px;margin: -1px;overflow: hidden;padding: 0;position: absolute;width: 1px;}#sk-container-id-5 div.sk-estimator {font-family: monospace;background-color: #f0f8ff;border: 1px dotted black;border-radius: 0.25em;box-sizing: border-box;margin-bottom: 0.5em;}#sk-container-id-5 div.sk-estimator:hover {background-color: #d4ebff;}#sk-container-id-5 div.sk-parallel-item::after {content: \"\";width: 100%;border-bottom: 1px solid gray;flex-grow: 1;}#sk-container-id-5 div.sk-label:hover label.sk-toggleable__label {background-color: #d4ebff;}#sk-container-id-5 div.sk-serial::before {content: \"\";position: absolute;border-left: 1px solid gray;box-sizing: border-box;top: 0;bottom: 0;left: 50%;z-index: 0;}#sk-container-id-5 div.sk-serial {display: flex;flex-direction: column;align-items: center;background-color: white;padding-right: 0.2em;padding-left: 0.2em;position: relative;}#sk-container-id-5 div.sk-item {position: relative;z-index: 1;}#sk-container-id-5 div.sk-parallel {display: flex;align-items: stretch;justify-content: center;background-color: white;position: relative;}#sk-container-id-5 div.sk-item::before, #sk-container-id-5 div.sk-parallel-item::before {content: \"\";position: absolute;border-left: 1px solid gray;box-sizing: border-box;top: 0;bottom: 0;left: 50%;z-index: -1;}#sk-container-id-5 div.sk-parallel-item {display: flex;flex-direction: column;z-index: 1;position: relative;background-color: white;}#sk-container-id-5 div.sk-parallel-item:first-child::after {align-self: flex-end;width: 50%;}#sk-container-id-5 div.sk-parallel-item:last-child::after {align-self: flex-start;width: 50%;}#sk-container-id-5 div.sk-parallel-item:only-child::after {width: 0;}#sk-container-id-5 div.sk-dashed-wrapped {border: 1px dashed gray;margin: 0 0.4em 0.5em 0.4em;box-sizing: border-box;padding-bottom: 0.4em;background-color: white;}#sk-container-id-5 div.sk-label label {font-family: monospace;font-weight: bold;display: inline-block;line-height: 1.2em;}#sk-container-id-5 div.sk-label-container {text-align: center;}#sk-container-id-5 div.sk-container {/* jupyter's `normalize.less` sets `[hidden] { display: none; }` but bootstrap.min.css set `[hidden] { display: none !important; }` so we also need the `!important` here to be able to override the default hidden behavior on the sphinx rendered scikit-learn.org. See: https://github.com/scikit-learn/scikit-learn/issues/21755 */display: inline-block !important;position: relative;}#sk-container-id-5 div.sk-text-repr-fallback {display: none;}</style><div id=\"sk-container-id-5\" class=\"sk-top-container\"><div class=\"sk-text-repr-fallback\"><pre>SVC()</pre><b>In a Jupyter environment, please rerun this cell to show the HTML representation or trust the notebook. <br />On GitHub, the HTML representation is unable to render, please try loading this page with nbviewer.org.</b></div><div class=\"sk-container\" hidden><div class=\"sk-item\"><div class=\"sk-estimator sk-toggleable\"><input class=\"sk-toggleable__control sk-hidden--visually\" id=\"sk-estimator-id-10\" type=\"checkbox\" checked><label for=\"sk-estimator-id-10\" class=\"sk-toggleable__label sk-toggleable__label-arrow\">SVC</label><div class=\"sk-toggleable__content\"><pre>SVC()</pre></div></div></div></div></div>"
      ],
      "text/plain": [
       "SVC()"
      ]
     },
     "execution_count": 35,
     "metadata": {},
     "output_type": "execute_result"
    }
   ],
   "source": [
    "gaussian_svm = SVC(kernel='rbf')\n",
    "\n",
    "gaussian_svm.fit(X_train, y_train)"
   ]
  },
  {
   "cell_type": "markdown",
   "id": "5b4d4de2",
   "metadata": {
    "id": "5b4d4de2"
   },
   "source": [
    "__*  Gaussian:__ After being fitted, the model to predict new values:"
   ]
  },
  {
   "cell_type": "code",
   "execution_count": 36,
   "id": "f258054d",
   "metadata": {
    "executionInfo": {
     "elapsed": 384,
     "status": "ok",
     "timestamp": 1733648085090,
     "user": {
      "displayName": "MRUNALINI",
      "userId": "07070477345269462255"
     },
     "user_tz": -330
    },
    "id": "f258054d"
   },
   "outputs": [],
   "source": [
    "y_train_pred_gaussian = gaussian_svm.predict(X_train)\n",
    "\n",
    "y_test_pred_gaussian = gaussian_svm.predict(X_test)"
   ]
  },
  {
   "cell_type": "markdown",
   "id": "08aba722",
   "metadata": {
    "id": "08aba722"
   },
   "source": [
    "### Step 4 : Evaluation : Confusion Matrix\n",
    "__Visualize Results:__ Plot confusion matrices for better interpretation"
   ]
  },
  {
   "cell_type": "code",
   "execution_count": 37,
   "id": "78326416",
   "metadata": {
    "executionInfo": {
     "elapsed": 357,
     "status": "ok",
     "timestamp": 1733648163596,
     "user": {
      "displayName": "MRUNALINI",
      "userId": "07070477345269462255"
     },
     "user_tz": -330
    },
    "id": "78326416"
   },
   "outputs": [],
   "source": [
    "from sklearn.metrics import classification_report, confusion_matrix\n",
    "import itertools\n",
    "\n",
    "def plot_confusion_matrix(cm, labels,\n",
    "                          normalize=False,\n",
    "                          title='Confusion matrix',\n",
    "                          cmap = plt.cm.Blues):\n",
    "    \"\"\"\n",
    "    This function prints and plots the confusion matrix.\n",
    "    Normalization can be applied by setting `normalize=True`.\n",
    "    \"\"\"\n",
    "    if normalize:\n",
    "        cm = cm.astype('float') / cm.sum(axis=1)[:, np.newaxis]\n",
    "        print(\"Normalized confusion matrix\")\n",
    "    else:\n",
    "        print('Confusion Matrix :')\n",
    "    print(cm)\n",
    "\n",
    "    plt.imshow(cm, interpolation='nearest', cmap=cmap)\n",
    "    plt.title(title)\n",
    "    plt.colorbar()\n",
    "    tick_marks = np.arange(len(labels))\n",
    "    plt.xticks(tick_marks, labels, rotation = 0)\n",
    "    plt.yticks(tick_marks, labels)\n",
    "\n",
    "    fmt = '.2f' if normalize else 'd'\n",
    "    thresh = cm.max() / 2.\n",
    "    for i, j in itertools.product(range(cm.shape[0]), range(cm.shape[1])):\n",
    "        plt.text(j, i, format(cm[i, j], fmt),\n",
    "                 horizontalalignment=\"center\",\n",
    "                 color=\"white\" if cm[i, j] > thresh else \"black\")\n",
    "\n",
    "    plt.tight_layout()\n",
    "    plt.ylabel('True label')\n",
    "    plt.xlabel('Predicted label')"
   ]
  },
  {
   "cell_type": "markdown",
   "id": "e1261034",
   "metadata": {
    "id": "e1261034"
   },
   "source": [
    "__* Confusion matrix for `Train-Linear`__"
   ]
  },
  {
   "cell_type": "code",
   "execution_count": 38,
   "id": "a512ee45",
   "metadata": {
    "colab": {
     "base_uri": "https://localhost:8080/",
     "height": 558
    },
    "executionInfo": {
     "elapsed": 1074,
     "status": "ok",
     "timestamp": 1733648170497,
     "user": {
      "displayName": "MRUNALINI",
      "userId": "07070477345269462255"
     },
     "user_tz": -330
    },
    "id": "a512ee45",
    "outputId": "962fbe16-b382-415a-ca55-9242cd8aa70a"
   },
   "outputs": [
    {
     "name": "stdout",
     "output_type": "stream",
     "text": [
      "Confusion Matrix :\n",
      "[[63  3]\n",
      " [ 5 80]]\n"
     ]
    },
    {
     "data": {
      "image/png": "[encoded data removed]",
      "text/plain": [
       "<Figure size 640x480 with 2 Axes>"
      ]
     },
     "metadata": {},
     "output_type": "display_data"
    }
   ],
   "source": [
    "# Compute confusion matrix for train linear\n",
    "conf_matrix_train_linear = confusion_matrix(y_train, y_train_pred_linear, labels=[0,1])\n",
    "np.set_printoptions(precision = 2)\n",
    "#print(\"Confusion Matrix (Train, Linear):\\n\", conf_matrix_train_linear)\n",
    "\n",
    "# Plot non-normalized confusion matrix\n",
    "plt.figure()\n",
    "plot_confusion_matrix(conf_matrix_train_linear,\n",
    "                      labels = ['Benign(0)','Malignant(1)'],\n",
    "                      normalize = False,\n",
    "                      title ='Train Confusion Matrix - Linear SVM')"
   ]
  },
  {
   "cell_type": "markdown",
   "id": "dae7cf6c",
   "metadata": {
    "id": "dae7cf6c"
   },
   "source": [
    "__* Confusion matrix for `Test-Linear`__"
   ]
  },
  {
   "cell_type": "code",
   "execution_count": 39,
   "id": "0abd3816",
   "metadata": {
    "colab": {
     "base_uri": "https://localhost:8080/",
     "height": 558
    },
    "executionInfo": {
     "elapsed": 1081,
     "status": "ok",
     "timestamp": 1733648187585,
     "user": {
      "displayName": "MRUNALINI",
      "userId": "07070477345269462255"
     },
     "user_tz": -330
    },
    "id": "0abd3816",
    "outputId": "d2f50837-613b-4ef9-b92f-6d638dae782d"
   },
   "outputs": [
    {
     "name": "stdout",
     "output_type": "stream",
     "text": [
      "Confusion Matrix :\n",
      "[[28  1]\n",
      " [ 3 33]]\n"
     ]
    },
    {
     "data": {
      "image/png": "[encoded data removed]",
      "text/plain": [
       "<Figure size 640x480 with 2 Axes>"
      ]
     },
     "metadata": {},
     "output_type": "display_data"
    }
   ],
   "source": [
    "# Compute confusion matrix for test linear\n",
    "conf_matrix_test_linear = confusion_matrix(y_test, y_test_pred_linear)\n",
    "np.set_printoptions(precision = 2)\n",
    "\n",
    "# Plot non-normalized confusion matrix\n",
    "plt.figure()\n",
    "plot_confusion_matrix(conf_matrix_test_linear,\n",
    "                      labels = ['Benign(0)','Malignant(1)'],\n",
    "                      normalize = False,\n",
    "                      title ='Test Confusion Matrix - Linear SVM')"
   ]
  },
  {
   "cell_type": "markdown",
   "id": "6c502e2e",
   "metadata": {
    "id": "6c502e2e"
   },
   "source": [
    "__* Confusion matrix for `Train-Gaussian`__"
   ]
  },
  {
   "cell_type": "code",
   "execution_count": 40,
   "id": "e09e5eaa",
   "metadata": {
    "colab": {
     "base_uri": "https://localhost:8080/",
     "height": 558
    },
    "executionInfo": {
     "elapsed": 880,
     "status": "ok",
     "timestamp": 1733648202015,
     "user": {
      "displayName": "MRUNALINI",
      "userId": "07070477345269462255"
     },
     "user_tz": -330
    },
    "id": "e09e5eaa",
    "outputId": "03333ea2-0069-4f18-f6b7-b7fb72d221e7"
   },
   "outputs": [
    {
     "name": "stdout",
     "output_type": "stream",
     "text": [
      "Confusion Matrix :\n",
      "[[62  4]\n",
      " [15 70]]\n"
     ]
    },
    {
     "data": {
      "image/png": "[encoded data removed]",
      "text/plain": [
       "<Figure size 640x480 with 2 Axes>"
      ]
     },
     "metadata": {},
     "output_type": "display_data"
    }
   ],
   "source": [
    "# Compute confusion matrix for train gaussian\n",
    "conf_matrix_train_gaussian = confusion_matrix(y_train, y_train_pred_gaussian)\n",
    "np.set_printoptions(precision = 2)\n",
    "\n",
    "# Plot non-normalized confusion matrix\n",
    "plt.figure()\n",
    "plot_confusion_matrix(conf_matrix_train_gaussian,\n",
    "                      labels = ['Benign(0)','Malignant(1)'],\n",
    "                      normalize = False,\n",
    "                      title ='Train Confusion Matrix - Gaussian SVM')"
   ]
  },
  {
   "cell_type": "markdown",
   "id": "2a53e4e9",
   "metadata": {
    "id": "2a53e4e9"
   },
   "source": [
    "__* Confusion matrix for `Test-Gaussian`__"
   ]
  },
  {
   "cell_type": "code",
   "execution_count": 41,
   "id": "46cec1ec",
   "metadata": {
    "colab": {
     "base_uri": "https://localhost:8080/",
     "height": 558
    },
    "executionInfo": {
     "elapsed": 521,
     "status": "ok",
     "timestamp": 1733648207676,
     "user": {
      "displayName": "MRUNALINI",
      "userId": "07070477345269462255"
     },
     "user_tz": -330
    },
    "id": "46cec1ec",
    "outputId": "eabe0b33-61b7-4b64-e6d3-d3eb2345a89b"
   },
   "outputs": [
    {
     "name": "stdout",
     "output_type": "stream",
     "text": [
      "Confusion Matrix :\n",
      "[[29  0]\n",
      " [ 4 32]]\n"
     ]
    },
    {
     "data": {
      "image/png": "[encoded data removed]",
      "text/plain": [
       "<Figure size 640x480 with 2 Axes>"
      ]
     },
     "metadata": {},
     "output_type": "display_data"
    }
   ],
   "source": [
    "# Compute confusion matrix for train gaussian\n",
    "conf_matrix_test_gaussian = confusion_matrix(y_test, y_test_pred_gaussian)\n",
    "np.set_printoptions(precision = 2)\n",
    "\n",
    "# Plot non-normalized confusion matrix\n",
    "plt.figure()\n",
    "plot_confusion_matrix(conf_matrix_test_gaussian,\n",
    "                      labels = ['Benign(0)','Malignant(1)'],\n",
    "                      normalize = False,\n",
    "                      title ='Test Confusion Matrix - Gaussian SVM')"
   ]
  },
  {
   "cell_type": "markdown",
   "id": "894ce9df",
   "metadata": {
    "id": "894ce9df"
   },
   "source": [
    "### Step 5 : Accuracy : Train and Test\n",
    "__Generalization:__ Compare testing accuracy using Linear SVM and Gaussian SVM"
   ]
  },
  {
   "cell_type": "code",
   "execution_count": 42,
   "id": "6b2316fe",
   "metadata": {
    "colab": {
     "base_uri": "https://localhost:8080/"
    },
    "executionInfo": {
     "elapsed": 367,
     "status": "ok",
     "timestamp": 1733648222624,
     "user": {
      "displayName": "MRUNALINI",
      "userId": "07070477345269462255"
     },
     "user_tz": -330
    },
    "id": "6b2316fe",
    "outputId": "17a68106-894a-44f9-9745-3dc9da129c64"
   },
   "outputs": [
    {
     "name": "stdout",
     "output_type": "stream",
     "text": [
      "Linear SVM :\n",
      "Train Accuracy: 0.9470,\n",
      "Test Accuracy: 0.9385\n",
      "Gaussian SVM :\n",
      "Train Accuracy: 0.8742,\n",
      "Test Accuracy: 0.9385\n"
     ]
    }
   ],
   "source": [
    "from sklearn.metrics import accuracy_score\n",
    "\n",
    "train_accuracy_linear = accuracy_score(y_train, y_train_pred_linear)\n",
    "test_accuracy_linear = accuracy_score(y_test, y_test_pred_linear)\n",
    "\n",
    "train_accuracy_gaussian = accuracy_score(y_train, y_train_pred_gaussian)\n",
    "test_accuracy_gaussian = accuracy_score(y_test, y_test_pred_gaussian)\n",
    "\n",
    "# Print train and test accuracies\n",
    "print(f\"Linear SVM :\\nTrain Accuracy: {train_accuracy_linear:.4f},\\nTest Accuracy: {test_accuracy_linear:.4f}\")\n",
    "print(f\"Gaussian SVM :\\nTrain Accuracy: {train_accuracy_gaussian:.4f},\\nTest Accuracy: {test_accuracy_gaussian:.4f}\")"
   ]
  },
  {
   "cell_type": "markdown",
   "id": "fiztyH1ygrzy",
   "metadata": {
    "id": "fiztyH1ygrzy"
   },
   "source": [
    "#### Generalization Capability\n",
    "__Linear SVM:__\n",
    "\n",
    "* The small gap between training and testing accuracies ( 94.70 % − 93.85 % = 0.85 % ) indicates that the model generalizes well to unseen data.\n",
    "* Consistent performance across training and testing datasets demonstrates the model's robustness and ability to balance bias and variance.\n",
    "\n",
    "__Gaussian SVM:__\n",
    "* The larger gap between training and testing accuracies ( 93.85 % − 87.42 % = 6.43 %) suggests underfitting during training.\n",
    "* Although the test accuracy matches the Linear SVM, this is likely due to coincidence rather than effective learning."
   ]
  },
  {
   "cell_type": "markdown",
   "id": "7fc25d78",
   "metadata": {
    "id": "7fc25d78"
   },
   "source": [
    "### Conclusion of Task-1:\n",
    "* __Better Generalization:__ The Linear SVM demonstrates better generalization capability due to its consistent performance across training and testing datasets.\n",
    "* __Gaussian SVM:__ While achieving the same test accuracy, it underfits during training, making it less reliable in practice."
   ]
  },
  {
   "cell_type": "markdown",
   "id": "269ceea0",
   "metadata": {
    "id": "269ceea0"
   },
   "source": [
    "### Task - 2 :\n",
    "   * Change box constraint for the above SVMs (using the same data partition).\n",
    "   * Show the results for at least 3 different settings for this parameter for each kernel in Task-1 using confusion matrices.\n",
    "   * Explain your observations.\n",
    "   \n",
    "### Step 6: Change Box Constraint\n",
    "Train the models with different C (box constraint) values and compare."
   ]
  },
  {
   "cell_type": "code",
   "execution_count": 20,
   "id": "3276d0fb",
   "metadata": {
    "colab": {
     "base_uri": "https://localhost:8080/"
    },
    "executionInfo": {
     "elapsed": 375,
     "status": "ok",
     "timestamp": 1733648886300,
     "user": {
      "displayName": "MRUNALINI",
      "userId": "07070477345269462255"
     },
     "user_tz": -330
    },
    "id": "3276d0fb",
    "outputId": "32bc7e42-b292-440c-f0cc-cd9620ed50af"
   },
   "outputs": [
    {
     "name": "stdout",
     "output_type": "stream",
     "text": [
      "\n",
      "Box Constraint (C): 0.1\n",
      "Linear Kernel Confusion Matrix (Test):\n",
      " [[29  0]\n",
      " [ 4 32]]\n",
      "Gaussian Kernel Confusion Matrix (Test):\n",
      " [[27  2]\n",
      " [ 5 31]]\n",
      "\n",
      "Box Constraint (C): 1\n",
      "Linear Kernel Confusion Matrix (Test):\n",
      " [[28  1]\n",
      " [ 3 33]]\n",
      "Gaussian Kernel Confusion Matrix (Test):\n",
      " [[29  0]\n",
      " [ 4 32]]\n",
      "\n",
      "Box Constraint (C): 10\n",
      "Linear Kernel Confusion Matrix (Test):\n",
      " [[29  0]\n",
      " [ 2 34]]\n",
      "Gaussian Kernel Confusion Matrix (Test):\n",
      " [[28  1]\n",
      " [ 4 32]]\n"
     ]
    }
   ],
   "source": [
    "C_values = [0.1, 1, 10]\n",
    "for C in C_values:\n",
    "    print(f\"\\nBox Constraint (C): {C}\")\n",
    "\n",
    "    # Linear kernel SVM\n",
    "    linear_svm = SVC(kernel='linear', C=C)\n",
    "    linear_svm.fit(X_train, y_train)\n",
    "\n",
    "    y_test_pred_linear = linear_svm.predict(X_test)\n",
    "    print(\"Linear Kernel Confusion Matrix (Test):\\n\", confusion_matrix(y_test, y_test_pred_linear))\n",
    "\n",
    "    # Gaussian kernel SVM\n",
    "    gaussian_svm = SVC(kernel='rbf', C=C)\n",
    "    gaussian_svm.fit(X_train, y_train)\n",
    "\n",
    "    y_test_pred_gaussian = gaussian_svm.predict(X_test)\n",
    "    print(\"Gaussian Kernel Confusion Matrix (Test):\\n\", confusion_matrix(y_test, y_test_pred_gaussian))"
   ]
  },
  {
   "cell_type": "markdown",
   "id": "d7262a75",
   "metadata": {},
   "source": [
    "### Another code : For Confusion Matrix"
   ]
  },
  {
   "cell_type": "code",
   "execution_count": 44,
   "id": "ec9631c7",
   "metadata": {},
   "outputs": [
    {
     "name": "stdout",
     "output_type": "stream",
     "text": [
      "\n",
      "Box Constraint (C): 0.1\n",
      "Number of 'uncertain' predictions (Linear SVM, C=0.1): 18\n",
      "Linear Kernel Confusion Matrix (Test):\n",
      " [[20  0  9]\n",
      " [ 0 27  9]\n",
      " [ 0  0  0]]\n",
      "Number of 'uncertain' predictions (Gaussian SVM, C=0.1): 39\n",
      "Gaussian Kernel Confusion Matrix (Test):\n",
      " [[11  0 18]\n",
      " [ 0 15 21]\n",
      " [ 0  0  0]]\n",
      "\n",
      "Box Constraint (C): 1\n",
      "Number of 'uncertain' predictions (Linear SVM, C=1): 12\n",
      "Linear Kernel Confusion Matrix (Test):\n",
      " [[22  0  7]\n",
      " [ 0 31  5]\n",
      " [ 0  0  0]]\n",
      "Number of 'uncertain' predictions (Gaussian SVM, C=1): 23\n",
      "Gaussian Kernel Confusion Matrix (Test):\n",
      " [[19  0 10]\n",
      " [ 0 23 13]\n",
      " [ 0  0  0]]\n",
      "\n",
      "Box Constraint (C): 10\n",
      "Number of 'uncertain' predictions (Linear SVM, C=10): 13\n",
      "Linear Kernel Confusion Matrix (Test):\n",
      " [[22  0  7]\n",
      " [ 0 30  6]\n",
      " [ 0  0  0]]\n",
      "Number of 'uncertain' predictions (Gaussian SVM, C=10): 14\n",
      "Gaussian Kernel Confusion Matrix (Test):\n",
      " [[21  0  8]\n",
      " [ 0 30  6]\n",
      " [ 0  0  0]]\n"
     ]
    }
   ],
   "source": [
    "# Define the box constraint values\n",
    "C_values = [0.1, 1, 10]\n",
    "\n",
    "# Define a wider confidence threshold for \"uncertain\" classification\n",
    "threshold = 1.0  # Adjusted threshold for better \"uncertain\" prediction capture\n",
    "\n",
    "for C in C_values:\n",
    "    print(f\"\\nBox Constraint (C): {C}\")\n",
    "\n",
    "    # Linear kernel SVM\n",
    "    linear_svm = SVC(kernel='linear', C=C, probability=True)\n",
    "    linear_svm.fit(X_train, y_train)\n",
    "\n",
    "    # Get decision function scores for linear kernel\n",
    "    linear_probs = linear_svm.decision_function(X_test)\n",
    "\n",
    "    # Adjust predictions to include \"uncertain\" class (2)\n",
    "    y_test_pred_linear = np.where(np.abs(linear_probs) < threshold, 2, np.sign(linear_probs))\n",
    "    y_test_pred_linear = np.clip(y_test_pred_linear, 0, 2)  # Ensure predictions are 0, 1, or 2\n",
    "\n",
    "    # Analyze decision function and \"uncertain\" count\n",
    "    uncertain_count_linear = np.sum(np.abs(linear_probs) < threshold)\n",
    "    print(f\"Number of 'uncertain' predictions (Linear SVM, C={C}): {uncertain_count_linear}\")\n",
    "    print(\"Linear Kernel Confusion Matrix (Test):\\n\", confusion_matrix(y_test, y_test_pred_linear, labels=[0, 1, 2]))\n",
    "\n",
    "    # Gaussian kernel SVM\n",
    "    gaussian_svm = SVC(kernel='rbf', C=C, probability=True)\n",
    "    gaussian_svm.fit(X_train, y_train)\n",
    "\n",
    "    # Get decision function scores for Gaussian kernel\n",
    "    gaussian_probs = gaussian_svm.decision_function(X_test)\n",
    "\n",
    "    # Adjust predictions to include \"uncertain\" class (2)\n",
    "    y_test_pred_gaussian = np.where(np.abs(gaussian_probs) < threshold, 2, np.sign(gaussian_probs))\n",
    "    y_test_pred_gaussian = np.clip(y_test_pred_gaussian, 0, 2)  # Ensure predictions are 0, 1, or 2\n",
    "\n",
    "    # Analyze decision function and \"uncertain\" count\n",
    "    uncertain_count_gaussian = np.sum(np.abs(gaussian_probs) < threshold)\n",
    "    print(f\"Number of 'uncertain' predictions (Gaussian SVM, C={C}): {uncertain_count_gaussian}\")\n",
    "    print(\"Gaussian Kernel Confusion Matrix (Test):\\n\", confusion_matrix(y_test, y_test_pred_gaussian, labels=[0, 1, 2]))"
   ]
  },
  {
   "cell_type": "markdown",
   "id": "e15bf1c0",
   "metadata": {},
   "source": [
    "### Results and Observations:\n",
    "__Box Constraint $C=0.1$__\n",
    "* __Linear Kernel Confusion Matrix (Test)__ and  __Gaussian Kernel Confusion Matrix (Test)__\n",
    "* __Observation:__ At low $C$ both models tend to prioritize the margin over exact classification, leading to more misclassifications in the Gaussian kernel compared to the linear kernel.\n",
    "\n",
    "__Box Constraint $C=1$__\n",
    "* __Linear Kernel Confusion Matrix (Test)__ and  __Gaussian Kernel Confusion Matrix (Test)__\n",
    "* __Observation:__ Both kernels improve classification accuracy. The Gaussian kernel achieves perfect classification for one class (column 2), while the linear kernel balances misclassifications across both classes.\n",
    "\n",
    "__Box Constraint $C=10$__\n",
    "* __Linear Kernel Confusion Matrix (Test)__ and  __Gaussian Kernel Confusion Matrix (Test)__\n",
    "* __Observation:__ The linear kernel achieves the highest accuracy at this  $C$, while the Gaussian kernel shows slight overfitting with a marginal drop in performance.\n"
   ]
  },
  {
   "cell_type": "markdown",
   "id": "0eace4bf",
   "metadata": {
    "id": "0eace4bf"
   },
   "source": [
    "### Analysis of Box Constraint ($𝐶$ ) on Linear and Gaussian SVMs\n",
    "__1. Linear Kernel SVM:__\n",
    "* As $C$ increases, the __linear kernel__ consistently improves performance, with the best results at $C=10$. This kernel generalizes well, even at higher $C$, balancing the margin and classification accuracy.\n",
    "\n",
    "__2. Gaussian Kernel SVM:__\n",
    "* The __Gaussian kernel__ is sensitive to changes in $C$,It performs well at $C=1$,, but overfitting becomes apparent at  $C=10$, leading to decreased generalization.\n",
    "\n",
    "#### Comparison:\n",
    "* At  $C=1$, the __Gaussian kernel__ achieves near-perfect classification for the first class.\n",
    "* At $C=10$, the __linear kernel__ outperforms the Gaussian kernel, showcasing __better generalization__ for this dataset."
   ]
  },
  {
   "cell_type": "markdown",
   "id": "0b867c3a",
   "metadata": {
    "id": "0b867c3a"
   },
   "source": [
    "### Conclusion of Task - 2 :\n",
    "__* Best Kernel :__ The Linear kernel with $C=10$ exhibits the best balance between precision and recall across classes.\n",
    "\n",
    "__* Observations on  $C$ :__ \n",
    "\n",
    "    * Smaller C  values emphasize wider margins but can lead to underfitting.\n",
    "    * Larger C values prioritize minimizing classification errors but can lead to overfitting in the Gaussian kernel."
   ]
  },
  {
   "cell_type": "markdown",
   "id": "20c15197",
   "metadata": {
    "id": "20c15197"
   },
   "source": [
    "### Task - 3 :\n",
    "   * using a voting ensemble of at least 5 diverse SVMs (e.g., by varying kernels, their parameters, and box constraints) and\n",
    "   * using the same data partition, try to get better testing results.\n",
    "   * Show the improvements using the confusion matrix.\n",
    "   \n",
    "### Step 7:  Voting Ensemble\n",
    "Combine diverse SVM models using a voting classifier."
   ]
  },
  {
   "cell_type": "markdown",
   "id": "e663684d",
   "metadata": {
    "id": "e663684d"
   },
   "source": [
    "__* Define a diverse set of SVM models__"
   ]
  },
  {
   "cell_type": "code",
   "execution_count": 21,
   "id": "9f79d66a",
   "metadata": {
    "executionInfo": {
     "elapsed": 404,
     "status": "ok",
     "timestamp": 1733647504728,
     "user": {
      "displayName": "MRUNALINI",
      "userId": "07070477345269462255"
     },
     "user_tz": -330
    },
    "id": "9f79d66a"
   },
   "outputs": [],
   "source": [
    "# Define a diverse set of SVM models\n",
    "svm1 = SVC(kernel='linear', C = 0.1, probability = True)\n",
    "svm2 = SVC(kernel='linear', C = 1,   probability = True)\n",
    "\n",
    "svm3 = SVC(kernel='rbf',    C = 0.1, probability = True)\n",
    "svm4 = SVC(kernel='rbf',    C = 1,   probability = True)\n",
    "\n",
    "svm5 = SVC(kernel='poly', degree=3, C = 1, probability = True)"
   ]
  },
  {
   "cell_type": "markdown",
   "id": "1c8aee17",
   "metadata": {
    "id": "1c8aee17"
   },
   "source": [
    "__* Voting ensemble__"
   ]
  },
  {
   "cell_type": "code",
   "execution_count": 22,
   "id": "27d45785",
   "metadata": {
    "colab": {
     "base_uri": "https://localhost:8080/",
     "height": 123
    },
    "executionInfo": {
     "elapsed": 432,
     "status": "ok",
     "timestamp": 1733647509055,
     "user": {
      "displayName": "MRUNALINI",
      "userId": "07070477345269462255"
     },
     "user_tz": -330
    },
    "id": "27d45785",
    "outputId": "f2101315-8323-4559-d071-21e76d5b21ed"
   },
   "outputs": [
    {
     "data": {
      "text/html": [
       "<style>#sk-container-id-3 {color: black;}#sk-container-id-3 pre{padding: 0;}#sk-container-id-3 div.sk-toggleable {background-color: white;}#sk-container-id-3 label.sk-toggleable__label {cursor: pointer;display: block;width: 100%;margin-bottom: 0;padding: 0.3em;box-sizing: border-box;text-align: center;}#sk-container-id-3 label.sk-toggleable__label-arrow:before {content: \"▸\";float: left;margin-right: 0.25em;color: #696969;}#sk-container-id-3 label.sk-toggleable__label-arrow:hover:before {color: black;}#sk-container-id-3 div.sk-estimator:hover label.sk-toggleable__label-arrow:before {color: black;}#sk-container-id-3 div.sk-toggleable__content {max-height: 0;max-width: 0;overflow: hidden;text-align: left;background-color: #f0f8ff;}#sk-container-id-3 div.sk-toggleable__content pre {margin: 0.2em;color: black;border-radius: 0.25em;background-color: #f0f8ff;}#sk-container-id-3 input.sk-toggleable__control:checked~div.sk-toggleable__content {max-height: 200px;max-width: 100%;overflow: auto;}#sk-container-id-3 input.sk-toggleable__control:checked~label.sk-toggleable__label-arrow:before {content: \"▾\";}#sk-container-id-3 div.sk-estimator input.sk-toggleable__control:checked~label.sk-toggleable__label {background-color: #d4ebff;}#sk-container-id-3 div.sk-label input.sk-toggleable__control:checked~label.sk-toggleable__label {background-color: #d4ebff;}#sk-container-id-3 input.sk-hidden--visually {border: 0;clip: rect(1px 1px 1px 1px);clip: rect(1px, 1px, 1px, 1px);height: 1px;margin: -1px;overflow: hidden;padding: 0;position: absolute;width: 1px;}#sk-container-id-3 div.sk-estimator {font-family: monospace;background-color: #f0f8ff;border: 1px dotted black;border-radius: 0.25em;box-sizing: border-box;margin-bottom: 0.5em;}#sk-container-id-3 div.sk-estimator:hover {background-color: #d4ebff;}#sk-container-id-3 div.sk-parallel-item::after {content: \"\";width: 100%;border-bottom: 1px solid gray;flex-grow: 1;}#sk-container-id-3 div.sk-label:hover label.sk-toggleable__label {background-color: #d4ebff;}#sk-container-id-3 div.sk-serial::before {content: \"\";position: absolute;border-left: 1px solid gray;box-sizing: border-box;top: 0;bottom: 0;left: 50%;z-index: 0;}#sk-container-id-3 div.sk-serial {display: flex;flex-direction: column;align-items: center;background-color: white;padding-right: 0.2em;padding-left: 0.2em;position: relative;}#sk-container-id-3 div.sk-item {position: relative;z-index: 1;}#sk-container-id-3 div.sk-parallel {display: flex;align-items: stretch;justify-content: center;background-color: white;position: relative;}#sk-container-id-3 div.sk-item::before, #sk-container-id-3 div.sk-parallel-item::before {content: \"\";position: absolute;border-left: 1px solid gray;box-sizing: border-box;top: 0;bottom: 0;left: 50%;z-index: -1;}#sk-container-id-3 div.sk-parallel-item {display: flex;flex-direction: column;z-index: 1;position: relative;background-color: white;}#sk-container-id-3 div.sk-parallel-item:first-child::after {align-self: flex-end;width: 50%;}#sk-container-id-3 div.sk-parallel-item:last-child::after {align-self: flex-start;width: 50%;}#sk-container-id-3 div.sk-parallel-item:only-child::after {width: 0;}#sk-container-id-3 div.sk-dashed-wrapped {border: 1px dashed gray;margin: 0 0.4em 0.5em 0.4em;box-sizing: border-box;padding-bottom: 0.4em;background-color: white;}#sk-container-id-3 div.sk-label label {font-family: monospace;font-weight: bold;display: inline-block;line-height: 1.2em;}#sk-container-id-3 div.sk-label-container {text-align: center;}#sk-container-id-3 div.sk-container {/* jupyter's `normalize.less` sets `[hidden] { display: none; }` but bootstrap.min.css set `[hidden] { display: none !important; }` so we also need the `!important` here to be able to override the default hidden behavior on the sphinx rendered scikit-learn.org. See: https://github.com/scikit-learn/scikit-learn/issues/21755 */display: inline-block !important;position: relative;}#sk-container-id-3 div.sk-text-repr-fallback {display: none;}</style><div id=\"sk-container-id-3\" class=\"sk-top-container\"><div class=\"sk-text-repr-fallback\"><pre>VotingClassifier(estimators=[(&#x27;svm1&#x27;,\n",
       "                              SVC(C=0.1, kernel=&#x27;linear&#x27;, probability=True)),\n",
       "                             (&#x27;svm2&#x27;,\n",
       "                              SVC(C=1, kernel=&#x27;linear&#x27;, probability=True)),\n",
       "                             (&#x27;svm3&#x27;, SVC(C=0.1, probability=True)),\n",
       "                             (&#x27;svm4&#x27;, SVC(C=1, probability=True)),\n",
       "                             (&#x27;svm5&#x27;,\n",
       "                              SVC(C=1, kernel=&#x27;poly&#x27;, probability=True))],\n",
       "                 voting=&#x27;soft&#x27;)</pre><b>In a Jupyter environment, please rerun this cell to show the HTML representation or trust the notebook. <br />On GitHub, the HTML representation is unable to render, please try loading this page with nbviewer.org.</b></div><div class=\"sk-container\" hidden><div class=\"sk-item sk-dashed-wrapped\"><div class=\"sk-label-container\"><div class=\"sk-label sk-toggleable\"><input class=\"sk-toggleable__control sk-hidden--visually\" id=\"sk-estimator-id-3\" type=\"checkbox\" ><label for=\"sk-estimator-id-3\" class=\"sk-toggleable__label sk-toggleable__label-arrow\">VotingClassifier</label><div class=\"sk-toggleable__content\"><pre>VotingClassifier(estimators=[(&#x27;svm1&#x27;,\n",
       "                              SVC(C=0.1, kernel=&#x27;linear&#x27;, probability=True)),\n",
       "                             (&#x27;svm2&#x27;,\n",
       "                              SVC(C=1, kernel=&#x27;linear&#x27;, probability=True)),\n",
       "                             (&#x27;svm3&#x27;, SVC(C=0.1, probability=True)),\n",
       "                             (&#x27;svm4&#x27;, SVC(C=1, probability=True)),\n",
       "                             (&#x27;svm5&#x27;,\n",
       "                              SVC(C=1, kernel=&#x27;poly&#x27;, probability=True))],\n",
       "                 voting=&#x27;soft&#x27;)</pre></div></div></div><div class=\"sk-parallel\"><div class=\"sk-parallel-item\"><div class=\"sk-item\"><div class=\"sk-label-container\"><div class=\"sk-label sk-toggleable\"><label>svm1</label></div></div><div class=\"sk-serial\"><div class=\"sk-item\"><div class=\"sk-estimator sk-toggleable\"><input class=\"sk-toggleable__control sk-hidden--visually\" id=\"sk-estimator-id-4\" type=\"checkbox\" ><label for=\"sk-estimator-id-4\" class=\"sk-toggleable__label sk-toggleable__label-arrow\">SVC</label><div class=\"sk-toggleable__content\"><pre>SVC(C=0.1, kernel=&#x27;linear&#x27;, probability=True)</pre></div></div></div></div></div></div><div class=\"sk-parallel-item\"><div class=\"sk-item\"><div class=\"sk-label-container\"><div class=\"sk-label sk-toggleable\"><label>svm2</label></div></div><div class=\"sk-serial\"><div class=\"sk-item\"><div class=\"sk-estimator sk-toggleable\"><input class=\"sk-toggleable__control sk-hidden--visually\" id=\"sk-estimator-id-5\" type=\"checkbox\" ><label for=\"sk-estimator-id-5\" class=\"sk-toggleable__label sk-toggleable__label-arrow\">SVC</label><div class=\"sk-toggleable__content\"><pre>SVC(C=1, kernel=&#x27;linear&#x27;, probability=True)</pre></div></div></div></div></div></div><div class=\"sk-parallel-item\"><div class=\"sk-item\"><div class=\"sk-label-container\"><div class=\"sk-label sk-toggleable\"><label>svm3</label></div></div><div class=\"sk-serial\"><div class=\"sk-item\"><div class=\"sk-estimator sk-toggleable\"><input class=\"sk-toggleable__control sk-hidden--visually\" id=\"sk-estimator-id-6\" type=\"checkbox\" ><label for=\"sk-estimator-id-6\" class=\"sk-toggleable__label sk-toggleable__label-arrow\">SVC</label><div class=\"sk-toggleable__content\"><pre>SVC(C=0.1, probability=True)</pre></div></div></div></div></div></div><div class=\"sk-parallel-item\"><div class=\"sk-item\"><div class=\"sk-label-container\"><div class=\"sk-label sk-toggleable\"><label>svm4</label></div></div><div class=\"sk-serial\"><div class=\"sk-item\"><div class=\"sk-estimator sk-toggleable\"><input class=\"sk-toggleable__control sk-hidden--visually\" id=\"sk-estimator-id-7\" type=\"checkbox\" ><label for=\"sk-estimator-id-7\" class=\"sk-toggleable__label sk-toggleable__label-arrow\">SVC</label><div class=\"sk-toggleable__content\"><pre>SVC(C=1, probability=True)</pre></div></div></div></div></div></div><div class=\"sk-parallel-item\"><div class=\"sk-item\"><div class=\"sk-label-container\"><div class=\"sk-label sk-toggleable\"><label>svm5</label></div></div><div class=\"sk-serial\"><div class=\"sk-item\"><div class=\"sk-estimator sk-toggleable\"><input class=\"sk-toggleable__control sk-hidden--visually\" id=\"sk-estimator-id-8\" type=\"checkbox\" ><label for=\"sk-estimator-id-8\" class=\"sk-toggleable__label sk-toggleable__label-arrow\">SVC</label><div class=\"sk-toggleable__content\"><pre>SVC(C=1, kernel=&#x27;poly&#x27;, probability=True)</pre></div></div></div></div></div></div></div></div></div></div>"
      ],
      "text/plain": [
       "VotingClassifier(estimators=[('svm1',\n",
       "                              SVC(C=0.1, kernel='linear', probability=True)),\n",
       "                             ('svm2',\n",
       "                              SVC(C=1, kernel='linear', probability=True)),\n",
       "                             ('svm3', SVC(C=0.1, probability=True)),\n",
       "                             ('svm4', SVC(C=1, probability=True)),\n",
       "                             ('svm5',\n",
       "                              SVC(C=1, kernel='poly', probability=True))],\n",
       "                 voting='soft')"
      ]
     },
     "execution_count": 22,
     "metadata": {},
     "output_type": "execute_result"
    }
   ],
   "source": [
    "# Voting ensemble\n",
    "voting_ensemble = VotingClassifier(estimators =[('svm1', svm1),\n",
    "                                                ('svm2', svm2),\n",
    "                                                ('svm3', svm3),\n",
    "                                                ('svm4', svm4),\n",
    "                                                ('svm5', svm5)],\n",
    "                                   voting='soft')\n",
    "\n",
    "voting_ensemble.fit(X_train, y_train)"
   ]
  },
  {
   "cell_type": "markdown",
   "id": "009ef955",
   "metadata": {
    "id": "009ef955"
   },
   "source": [
    "__* Evaluate the ensemble__"
   ]
  },
  {
   "cell_type": "code",
   "execution_count": 23,
   "id": "9bd6849b",
   "metadata": {
    "colab": {
     "base_uri": "https://localhost:8080/"
    },
    "executionInfo": {
     "elapsed": 400,
     "status": "ok",
     "timestamp": 1733647516541,
     "user": {
      "displayName": "MRUNALINI",
      "userId": "07070477345269462255"
     },
     "user_tz": -330
    },
    "id": "9bd6849b",
    "outputId": "2f5eaff2-8b53-4cd2-e13a-e2b8fb049851"
   },
   "outputs": [
    {
     "name": "stdout",
     "output_type": "stream",
     "text": [
      "Ensemble Confusion Matrix (Train):\n",
      " [[62  4]\n",
      " [ 5 80]]\n",
      "Ensemble Confusion Matrix (Test):\n",
      " [[28  1]\n",
      " [ 3 33]]\n"
     ]
    }
   ],
   "source": [
    "# Evaluate the ensemble\n",
    "y_train_pred_ensemble = voting_ensemble.predict(X_train)\n",
    "y_test_pred_ensemble = voting_ensemble.predict(X_test)\n",
    "\n",
    "conf_matrix_ensemble_train = confusion_matrix(y_train, y_train_pred_ensemble)\n",
    "conf_matrix_ensemble_test = confusion_matrix(y_test, y_test_pred_ensemble)\n",
    "\n",
    "print(\"Ensemble Confusion Matrix (Train):\\n\", conf_matrix_ensemble_train)\n",
    "print(\"Ensemble Confusion Matrix (Test):\\n\", conf_matrix_ensemble_test)"
   ]
  },
  {
   "cell_type": "markdown",
   "id": "6bcfd2d6",
   "metadata": {
    "id": "6bcfd2d6"
   },
   "source": [
    "### Step 8: Compare Results\n",
    "* Finally, compare `confusion matrices` and `accuracies` for all individual classifiers and the voting ensemble.\n",
    "* Assess if the ensemble has better testing performance compared to individual classifiers.\n",
    "\n",
    "__Visualize Results:__"
   ]
  },
  {
   "cell_type": "code",
   "execution_count": 24,
   "id": "6bcf696e",
   "metadata": {
    "colab": {
     "base_uri": "https://localhost:8080/",
     "height": 734
    },
    "executionInfo": {
     "elapsed": 2755,
     "status": "ok",
     "timestamp": 1733647525552,
     "user": {
      "displayName": "MRUNALINI",
      "userId": "07070477345269462255"
     },
     "user_tz": -330
    },
    "id": "6bcf696e",
    "outputId": "d58b0739-a16e-4b0d-af03-54d520477a1b"
   },
   "outputs": [
    {
     "data": {
      "image/png": "[encoded data removed]",
      "text/plain": [
       "<Figure size 400x200 with 2 Axes>"
      ]
     },
     "metadata": {},
     "output_type": "display_data"
    },
    {
     "data": {
      "image/png": "[encoded data removed]",
      "text/plain": [
       "<Figure size 400x200 with 2 Axes>"
      ]
     },
     "metadata": {},
     "output_type": "display_data"
    },
    {
     "data": {
      "image/png": "[encoded data removed]",
      "text/plain": [
       "<Figure size 400x200 with 2 Axes>"
      ]
     },
     "metadata": {},
     "output_type": "display_data"
    }
   ],
   "source": [
    "# Plot confusion matrices for better interpretation\n",
    "def plot_confusion_matrix(cm, title):\n",
    "    plt.figure(figsize=(4, 2))\n",
    "    sns.heatmap(cm, annot=True, fmt='d', cmap='Blues')\n",
    "    plt.title(title)\n",
    "    plt.xlabel('Predicted')\n",
    "    plt.ylabel('Actual')\n",
    "    plt.show()\n",
    "\n",
    "# Example usage\n",
    "plot_confusion_matrix(conf_matrix_test_linear, \"Test Confusion Matrix - Linear SVM\")\n",
    "plot_confusion_matrix(conf_matrix_test_gaussian, \"Test Confusion Matrix - Gaussian SVM\")\n",
    "plot_confusion_matrix(conf_matrix_ensemble_test, \"Test Confusion Matrix - Ensemble\")"
   ]
  },
  {
   "cell_type": "markdown",
   "id": "68b63913",
   "metadata": {
    "id": "68b63913"
   },
   "source": [
    "### Step 9 : Accuracy : Train and Test\n",
    "__Generalization:__ Training and testing accuracy using `Voting ensemble`"
   ]
  },
  {
   "cell_type": "code",
   "execution_count": 25,
   "id": "0ca3ec90",
   "metadata": {
    "colab": {
     "base_uri": "https://localhost:8080/"
    },
    "executionInfo": {
     "elapsed": 442,
     "status": "ok",
     "timestamp": 1733647532241,
     "user": {
      "displayName": "MRUNALINI",
      "userId": "07070477345269462255"
     },
     "user_tz": -330
    },
    "id": "0ca3ec90",
    "outputId": "032853d8-c20a-4adb-ba5a-0f6d3c64c3e4"
   },
   "outputs": [
    {
     "name": "stdout",
     "output_type": "stream",
     "text": [
      "Voting Ensemble Accuracy :\n",
      "Train Accuracy: 0.9404 \n",
      "Test Accuracy: 0.9385\n"
     ]
    }
   ],
   "source": [
    "from sklearn.metrics import accuracy_score\n",
    "\n",
    "train_accuracy_ensemble = accuracy_score(y_train, y_train_pred_ensemble)\n",
    "test_accuracy_ensemble = accuracy_score(y_test, y_test_pred_ensemble)\n",
    "\n",
    "# Print train and test accuracies\n",
    "print(f\"Voting Ensemble Accuracy :\\nTrain Accuracy: {train_accuracy_ensemble:.4f} \\nTest Accuracy: {test_accuracy_ensemble:.4f}\")"
   ]
  },
  {
   "cell_type": "markdown",
   "id": "41128a45",
   "metadata": {
    "id": "41128a45"
   },
   "source": [
    "#### Observations:\n",
    "* The voting ensemble provides a balanced approach to classification, reducing misclassifications compared to the Gaussian SVM and matching the performance of the linear SVM.\n",
    "* Its ability to maintain high accuracy across both datasets highlights its robustness and generalization capability.\n",
    "\n",
    "### Conclusion of Task - 3 :\n",
    "The results demonstrate that ensemble learning effectively improves classification performance by combining the strengths of individual models. The voting ensemble achieves consistent and reliable outcomes, making it a preferable choice for applications requiring robust generalization.\n",
    "\n"
   ]
  },
  {
   "cell_type": "markdown",
   "id": "3226be9b",
   "metadata": {
    "id": "3226be9b"
   },
   "source": [
    "#### Thank You."
   ]
  }
 ],
 "metadata": {
  "colab": {
   "provenance": []
  },
  "kernelspec": {
   "display_name": "Python 3 (ipykernel)",
   "language": "python",
   "name": "python3"
  },
  "language_info": {
   "codemirror_mode": {
    "name": "ipython",
    "version": 3
   },
   "file_extension": ".py",
   "mimetype": "text/x-python",
   "name": "python",
   "nbconvert_exporter": "python",
   "pygments_lexer": "ipython3",
   "version": "3.8.18"
  }
 },
 "nbformat": 4,
 "nbformat_minor": 5
}
